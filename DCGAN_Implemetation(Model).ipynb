{
  "nbformat": 4,
  "nbformat_minor": 0,
  "metadata": {
    "colab": {
      "name": "DCGAN Implemetation(Model).ipynb",
      "provenance": [],
      "collapsed_sections": []
    },
    "kernelspec": {
      "name": "python3",
      "display_name": "Python 3"
    },
    "language_info": {
      "name": "python"
    }
  },
  "cells": [
    {
      "cell_type": "markdown",
      "source": [
        "**UNSUPERVISED REPRESENTATION LEARNING WITH DEEP CONVOLUTIONAL GENERATIVE\n",
        "ADVERSARIAL NETWORKS**\n",
        "**IMPLEMENTATION**"
      ],
      "metadata": {
        "id": "prc_ZV_HvTGg"
      }
    },
    {
      "cell_type": "code",
      "source": [
        "\"\"\"\n",
        "Here we are implementing Discriminator and Generator fron DCGAN paper\n",
        "\"\"\"\n",
        "import torch\n",
        "import torch.nn as nn\n",
        "\n",
        "class Discriminator(nn.Module):\n",
        "  def __init__(self, channels_img, features_d):\n",
        "    super.Discriminator.__init__()\n",
        "    self.disc = nn.sequential(\n",
        "        # Input: N X channels_img X 64 X 64\n",
        "          nn.Conv2d( in_channels, out_channels, kernel_size=4, stride=2, padding=1\n",
        "          ),\n",
        "          nn.LeakyReLU(0.2),\n",
        "          self._block(features_d, features_d*2, 4, 2, 1), # 16X16\n",
        "          self._block(features_d*2, features_d*4, 4, 2, 1), # 8X8  \n",
        "          self._block(features_d*4, features_d*8, 4, 2, 1),  # 4x4   \n",
        "          nn.Conv2d(features_d*8, 2, kernel_size=4, stride=1, padding=0), #1x1\n",
        "          nn.Sigmoid(),\n",
        "          )\n",
        "               \n",
        "  def _block(self, in_channels, out_channels, kernel_size, stride, padding):\n",
        "      return nn.Sequential(\n",
        "                     nn.Conv2d(\n",
        "                         in_channels,\n",
        "                         out_channels,\n",
        "                         kernel_size,\n",
        "                         stride,\n",
        "                         padding,\n",
        "                         bias=False\n",
        "                     ),\n",
        "                     nn.BatchNorm2d(out_channels),\n",
        "                     nn.LeakyRelu(0.2),\n",
        "  )\n",
        "  def forward(self, x): \n",
        "      return self.disc(x) \n",
        "\n",
        "  class Generator(nn.Module):\n",
        "    def __init__(self,z_dim, channels_img, features_g):\n",
        "        super(Generator, self).__init__()\n",
        "        self.net = nn.Sequential()\n",
        "            # Input : N x z_dim x 1 x 1\n",
        "        self._block(z_dim, features_g*16, 4, 1, 0) # N X f_g*16 x 4 x 4\n",
        "        self._block(features_g*16, features_g*8, 4, 2, 1), #8x8\n",
        "        self._block(features_g*8, features_g*4, 4, 2, 1),  #16x16\n",
        "        self._block(features_g*4, features_g*2, 4, 2, 1),  #32x32\n",
        "        nn.ConvTranspose2d(\n",
        "                features_g*2, channels_img, kernel_size=4, stride=2, padding=1,\n",
        "            ),\n",
        "        nn.Tanh(), #[-1,1]\n",
        "  def _block(self, in_channels, out_channels, kernel_size, stride, padding):\n",
        "            return nn.Sequential(\n",
        "                nn.ConvTranspose2d(\n",
        "                     in_channels,\n",
        "                         out_channels,\n",
        "                         kernel_size,\n",
        "                         stride,\n",
        "                         padding,\n",
        "                         bias=False\n",
        "                     ),  \n",
        "              nn.BatchNorm2d(out_channels),\n",
        "              nn.ReLU()\n",
        "            )\n",
        "  def forward(self, x):\n",
        "          return self.gen(x)\n",
        "  def initialize_weights(model):\n",
        "   for m in model.modules():\n",
        "    if isinstance(m, (nn.Conv2d, nn.ConvTranspose2d, nn.BatchNorm2d)):\n",
        "      nn.init.normal_(m.weight.data, 0.0, 0.02)\n",
        "      nn.init.normal_(m.weight.data, 0.0, 0.02)\n",
        "      nn.init.normal_(m.weight.data, 0.0, 0.02)\n",
        "\n",
        "def test():\n",
        "  N, in_channels, H, W = 8, 3, 64, 64\n",
        "  z_dim = 100\n",
        "  x = torch.randn(( N, in_channels, H, W))\n",
        "  disc = Discriminator(in_channels, 8)\n",
        "  initialize_weights(disc)\n",
        "  assert disc(x).shape == (N, 1, 1, 1)   \n",
        "  gen = Generator(z_dim, in_channels, 8)\n",
        "  initialize_weights(gen)\n",
        "  z = torch.randn((N, z_dim, 1, 1)) \n",
        "  assert gen(z).shape == (N, in_channels, H, W)\n",
        "  print(\"Success\")\n",
        "  \"Generator test failed\"\n",
        "#test()\n"
      ],
      "metadata": {
        "id": "WpC3JEWlwDs_"
      },
      "execution_count": null,
      "outputs": []
    }
  ]
}