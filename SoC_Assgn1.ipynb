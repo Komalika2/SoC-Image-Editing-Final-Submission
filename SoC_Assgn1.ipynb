{
  "nbformat": 4,
  "nbformat_minor": 0,
  "metadata": {
    "colab": {
      "name": "SoC_Assgn1.ipynb",
      "provenance": []
    },
    "kernelspec": {
      "name": "python3",
      "display_name": "Python 3"
    },
    "language_info": {
      "name": "python"
    }
  },
  "cells": [
    {
      "cell_type": "code",
      "execution_count": null,
      "metadata": {
        "id": "Vqk-H-brM1g9"
      },
      "outputs": [],
      "source": [
        "import pandas as pd\n",
        "import matplotlib.pyplot as plt\n",
        "import numpy as np\n",
        "\n",
        "df = pd.read_csv('/content/Simple_linear_regression.csv')\n",
        "print(df.to_string())\n",
        "\n",
        "df.plot.scatter('X','Y')\n",
        "\n",
        "X = np.asarray(df.X.values)\n",
        "y = np.asarray(df.Y.values)\n",
        "\n",
        "m = len(y)\n",
        "X = np.vstack((np.ones(m),X.T)).T\n",
        "print(X)"
      ]
    },
    {
      "cell_type": "markdown",
      "source": [
        "Declaring Theta"
      ],
      "metadata": {
        "id": "mR-jPh_2iD1V"
      }
    },
    {
      "cell_type": "code",
      "source": [
        "# Plot data and Hypothesis: set theta manually\n",
        "\n",
        "theta_0 = 28\n",
        "theta_1 = 0.32\n",
        "\n",
        "# the vector theta is initialized with theta_0 and theta_1\n",
        "theta = np.asarray([theta_0,theta_1]).astype(float)\n",
        "\n",
        "# Plot the data\n",
        "plt.scatter(X[:,[1]], y,  color='black') \n",
        "\n",
        "# Plot a red line corrensponding to our Hypothesis model.\n",
        "plt.plot(X[:,[1]], np.sum(np.multiply(X,theta), axis=1), color='red', linewidth=1)"
      ],
      "metadata": {
        "id": "p835QSxGf-hL"
      },
      "execution_count": null,
      "outputs": []
    },
    {
      "cell_type": "markdown",
      "source": [
        "Cost Function\n"
      ],
      "metadata": {
        "id": "v6F-00DLiSCj"
      }
    },
    {
      "cell_type": "code",
      "source": [
        "# Calculate the Cost Function\n",
        "def CostFunction(X, y, theta):\n",
        "    \n",
        "    # number of training examples\n",
        "    m = len(y) \n",
        "    \n",
        "    # initialize J (the cost)\n",
        "    J = 0 \n",
        "\n",
        "    # Calculate h = X * theta\n",
        "    h = np.sum(np.multiply(X, theta), axis=1)\n",
        "    \n",
        "    # Calculate the Squared Error = (h - y)^2 (vectorized)\n",
        "    SquaredError = np.power(np.subtract(h,y), 2)\n",
        "    \n",
        "    # Calculate the Cost J\n",
        "    J = 1/(2*m) * np.sum(SquaredError)\n",
        "    \n",
        "    return J\n",
        "\n",
        "CostFunction(X,y,theta)"
      ],
      "metadata": {
        "colab": {
          "base_uri": "https://localhost:8080/"
        },
        "id": "9ypCATFGfbEn",
        "outputId": "b36c26dc-638f-4beb-f81e-43b762ad0c20"
      },
      "execution_count": null,
      "outputs": [
        {
          "output_type": "execute_result",
          "data": {
            "text/plain": [
              "111.31230222222226"
            ]
          },
          "metadata": {},
          "execution_count": 24
        }
      ]
    },
    {
      "cell_type": "markdown",
      "source": [
        "Gradient Descent"
      ],
      "metadata": {
        "id": "YJBIuQYWijTv"
      }
    },
    {
      "cell_type": "code",
      "source": [
        "def gradientDescent(X, y, theta, alpha):\n",
        "    \n",
        "    # number of training examples\n",
        "    m = len(y) \n",
        "\n",
        "    # Initialize J_history and Theta_history\n",
        "    J_history = 100.0\n",
        "    J = 0.0\n",
        "    \n",
        "    while J_history - J > 0.001:\n",
        "        \n",
        "        J_history = J\n",
        "\n",
        "        # Calculate h = X * theta\n",
        "        h = np.sum(np.multiply(X,theta), axis=1)\n",
        "    \n",
        "        # Calculate the error = (h - y)\n",
        "        error = np.subtract(h, y)\n",
        "                \n",
        "        # Update theta\n",
        "        theta = np.subtract(theta, alpha * 1/m * np.sum(np.multiply(X.T, error), axis=1))\n",
        "        \n",
        "        # Calculate New J \n",
        "        J = CostFunction(X, y, theta)\n",
        "\n",
        "        \n",
        "    return theta, J"
      ],
      "metadata": {
        "id": "KsscrdeFinhb"
      },
      "execution_count": null,
      "outputs": []
    },
    {
      "cell_type": "markdown",
      "source": [
        "Running Gradient Descent"
      ],
      "metadata": {
        "id": "vr91fDcdl7e-"
      }
    },
    {
      "cell_type": "code",
      "source": [
        "# Initialize theta\n",
        "theta = np.asarray([28,0.32]).astype(float)\n",
        "\n",
        "#declaring alpha\n",
        "alpha = 0.001\n",
        "\n",
        "# Run the gradientDescent() function, and collect the output in \"results\"\n",
        "results = gradientDescent(X, y, theta, alpha)\n",
        "\n",
        "# Get the theta from the results\n",
        "theta = results[0] # new theta\n",
        "\n",
        "# Get J \n",
        "J = results[1] # Cost funtion"
      ],
      "metadata": {
        "id": "1_bn3C0fmQ9w"
      },
      "execution_count": null,
      "outputs": []
    },
    {
      "cell_type": "markdown",
      "source": [
        "Plot Final Result"
      ],
      "metadata": {
        "id": "U3QQj3Vmm6ap"
      }
    },
    {
      "cell_type": "code",
      "source": [
        "print(theta)\n",
        "print(J)\n",
        "\n",
        "# Plot training set\n",
        "plt.scatter(X[:,[1]], y,  color='black')\n",
        "\n",
        "# Plot Hypothesis (theta were calculated with the Gradient Descent)\n",
        "plt.plot(X[:,[1]], np.sum(np.multiply(X,theta), axis=1), color='red', linewidth=1)"
      ],
      "metadata": {
        "colab": {
          "base_uri": "https://localhost:8080/",
          "height": 317
        },
        "id": "CmsFQMOcm8Kc",
        "outputId": "24316d7b-fc2e-4fe0-dec5-8774d360e21a"
      },
      "execution_count": null,
      "outputs": [
        {
          "output_type": "stream",
          "name": "stdout",
          "text": [
            "[27.99618756 -2.57237689]\n",
            "2003353.0523858813\n"
          ]
        },
        {
          "output_type": "execute_result",
          "data": {
            "text/plain": [
              "[<matplotlib.lines.Line2D at 0x7f68947cda90>]"
            ]
          },
          "metadata": {},
          "execution_count": 44
        },
        {
          "output_type": "display_data",
          "data": {
            "text/plain": [
              "<Figure size 432x288 with 1 Axes>"
            ],
            "image/png": "[encoded data removed]"
          },
          "metadata": {
            "needs_background": "light"
          }
        }
      ]
    }
  ]
}